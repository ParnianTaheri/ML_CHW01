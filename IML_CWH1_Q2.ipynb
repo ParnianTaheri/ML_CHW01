{
 "cells": [
  {
   "cell_type": "markdown",
   "metadata": {
    "id": "9CFNN5Ms51un"
   },
   "source": [
    "<h1 align=\"center\">An Introduction to Machine Learning - 25737</h1>\n",
    "<h4 align=\"center\">Dr. Sajjad Amini</h4>\n",
    "<h4 align=\"center\">Sharif University of Technology, Spring 2023</h4>\n",
    "\n",
    "# Problem Set 02\n",
    "\n",
    "Welcome to your second assignment. This exercise gives you a brief introduction to Python. \n"
   ]
  },
  {
   "cell_type": "markdown",
   "metadata": {
    "id": "otVWavun6BLM"
   },
   "source": [
    "STUDENT NAME: Parnian Taheri\n",
    "\n",
    "STUDENT ID: 99106352"
   ]
  },
  {
   "cell_type": "markdown",
   "metadata": {
    "id": "ZmfUgXgE51uo"
   },
   "source": [
    "## Import \n",
    ">Put all of your imports for this file in the below cell."
   ]
  },
  {
   "cell_type": "code",
   "execution_count": 2,
   "metadata": {
    "id": "PKyVIvPF51uo"
   },
   "outputs": [],
   "source": [
    "### START CODE HERE ###\n",
    "import pandas as pd\n",
    "import numpy as np\n",
    "import csv\n",
    "import json\n",
    "from zipfile import ZipFile\n",
    "import matplotlib.pyplot as plt\n",
    "import seaborn as sns\n",
    "import io\n",
    "%matplotlib inline\n",
    "### END CODE HERE ###"
   ]
  },
  {
   "cell_type": "markdown",
   "metadata": {
    "id": "TK-ZIy9Z51up"
   },
   "source": [
    "# Question 1"
   ]
  },
  {
   "cell_type": "markdown",
   "metadata": {
    "id": "xATpgtcD51up"
   },
   "source": [
    "## Array creation\n",
    ">Create the followings to numpy array:\n",
    "* A: a 3\\*3 array like this:\n",
    "$$\n",
    "A = \\left(\\begin{array}{cc} \n",
    "10 & 20 & 30\\\\\n",
    "5 & 10 & 15\\\\\n",
    "1 & 5 & 8\n",
    "\\end{array}\\right)\n",
    "$$ \n",
    "* B: a 3\\*3\\*4 that filled with the numbers start from 15 and have steps of 5 to the end. The array should be filled first along the first dimension then the second dimension and at last the third dimension. like this:\n",
    "$$\n",
    "B[:, :, 0] = \\left(\\begin{array}{cc} \n",
    "15 & 30 & 45\\\\\n",
    "20 & 35 & 50\\\\\n",
    "25 & 40 & 55\n",
    "\\end{array}\\right)\n",
    "$$ "
   ]
  },
  {
   "cell_type": "code",
   "execution_count": 258,
   "metadata": {
    "id": "TjIs628Y51up"
   },
   "outputs": [
    {
     "name": "stdout",
     "output_type": "stream",
     "text": [
      "A:\n",
      " [[10 20 30]\n",
      " [ 5 10 15]\n",
      " [ 1  5  8]]\n",
      "\n",
      "B:\n",
      " [[15. 30. 45.]\n",
      " [20. 35. 50.]\n",
      " [25. 40. 55.]]\n"
     ]
    }
   ],
   "source": [
    "### START CODE HERE ###\n",
    "A = np.array([[10,20,30],[5,10,15],[1,5,8]])\n",
    "print(\"A:\\n\",A)\n",
    "\n",
    "B=np.zeros((3,3,4))\n",
    "for k in range(3):\n",
    "    for j in range(3):\n",
    "        for i in range(4):\n",
    "            B[k][j][i] = k*5+15+j*15+i*45\n",
    "print(\"\\nB:\\n\",B[:,:,0])\n",
    "### END CODE HERE ###"
   ]
  },
  {
   "cell_type": "markdown",
   "metadata": {
    "id": "FnkUQTNY51up"
   },
   "source": [
    "## Replacement\n",
    ">Replace the last slice of array B (B[:, :, 3]) with values of A. Then print the result."
   ]
  },
  {
   "cell_type": "code",
   "execution_count": 259,
   "metadata": {
    "id": "P8VC57_o51uq"
   },
   "outputs": [
    {
     "name": "stdout",
     "output_type": "stream",
     "text": [
      "[[10. 20. 30.]\n",
      " [ 5. 10. 15.]\n",
      " [ 1.  5.  8.]]\n",
      "[[[ 15.  60. 105.  10.]\n",
      "  [ 30.  75. 120.  20.]\n",
      "  [ 45.  90. 135.  30.]]\n",
      "\n",
      " [[ 20.  65. 110.   5.]\n",
      "  [ 35.  80. 125.  10.]\n",
      "  [ 50.  95. 140.  15.]]\n",
      "\n",
      " [[ 25.  70. 115.   1.]\n",
      "  [ 40.  85. 130.   5.]\n",
      "  [ 55. 100. 145.   8.]]]\n"
     ]
    }
   ],
   "source": [
    "### START CODE HERE ###\n",
    "B[:,:,3]=A\n",
    "print(B[:,:,3])\n",
    "print(B)\n",
    "### END CODE HERE ###"
   ]
  },
  {
   "cell_type": "markdown",
   "metadata": {
    "id": "nZs4P5AZ51uq"
   },
   "source": [
    "## Axis Swap \n",
    ">Swap the first(B[:, :, 0]) and last(B[:, :, 3]) slice of the array B **only with one line of code**. Then print the result."
   ]
  },
  {
   "cell_type": "code",
   "execution_count": 262,
   "metadata": {
    "id": "WmS33bBl51uq"
   },
   "outputs": [
    {
     "name": "stdout",
     "output_type": "stream",
     "text": [
      "[[[ 10.  60. 105.  15.]\n",
      "  [ 20.  75. 120.  30.]\n",
      "  [ 30.  90. 135.  45.]]\n",
      "\n",
      " [[  5.  65. 110.  20.]\n",
      "  [ 10.  80. 125.  35.]\n",
      "  [ 15.  95. 140.  50.]]\n",
      "\n",
      " [[  1.  70. 115.  25.]\n",
      "  [  5.  85. 130.  40.]\n",
      "  [  8. 100. 145.  55.]]]\n"
     ]
    }
   ],
   "source": [
    "### START CODE HERE ###\n",
    "B[:, :, [3 , 0]]= B[:, :, [0 , 3]]\n",
    "print(B)\n",
    "### END CODE HERE ###"
   ]
  },
  {
   "cell_type": "markdown",
   "metadata": {
    "id": "220LTscL51uq"
   },
   "source": [
    "## Transposing \n",
    ">Transpose the array B elements in each slice. Then print the result."
   ]
  },
  {
   "cell_type": "code",
   "execution_count": 267,
   "metadata": {
    "id": "aNMAlnaC51uq"
   },
   "outputs": [
    {
     "name": "stdout",
     "output_type": "stream",
     "text": [
      "The original B:\n",
      " [[ 60.  75.  90.]\n",
      " [ 65.  80.  95.]\n",
      " [ 70.  85. 100.]]\n",
      "The transposed B:\n",
      " [[ 60.  65.  70.]\n",
      " [ 75.  80.  85.]\n",
      " [ 90.  95. 100.]]\n"
     ]
    }
   ],
   "source": [
    "### START CODE HERE ###\n",
    "print(\"The original B:\\n\",B[:,:,1])\n",
    "B = np.transpose(B,(1,0,2))\n",
    "print(\"The transposed B:\\n\",B[:,:,1])\n",
    "### END CODE HERE ###"
   ]
  },
  {
   "cell_type": "markdown",
   "metadata": {
    "id": "xYFuQ6_H51uq"
   },
   "source": [
    "## Matrix Multiplication\n",
    ">Calculate the matrix multiplication of all slices of the array B. \n",
    "(B[:, :, 0] \\* B[:, :, 1] \\* B[:, :, 2] \\* B[:, :, 3]). Then print the result.\n",
    "\n",
    ">**Note**: the result should be a 3\\*3 array. "
   ]
  },
  {
   "cell_type": "code",
   "execution_count": 273,
   "metadata": {
    "id": "HfQRENtP51uq"
   },
   "outputs": [
    {
     "name": "stdout",
     "output_type": "stream",
     "text": [
      "[[10.  5.  1.]\n",
      " [20. 10.  5.]\n",
      " [30. 15.  8.]]\n",
      "[[ 60.  65.  70.]\n",
      " [ 75.  80.  85.]\n",
      " [ 90.  95. 100.]]\n",
      "Resault:\n",
      " [[3.93750000e+07 4.58516250e+07 5.23282500e+07]\n",
      " [8.85375000e+07 1.03100625e+08 1.17663750e+08]\n",
      " [1.34437500e+08 1.56550500e+08 1.78663500e+08]]\n"
     ]
    }
   ],
   "source": [
    "### START CODE HERE ###\n",
    "print(B[:, :, 0])\n",
    "print(B[:, :, 1])\n",
    "M = B[:, :, 0] @ B[:, :, 1] @ B[:, :, 2] @ B[:, :, 3]\n",
    "print(\"Resault:\\n\",M)\n",
    "### END CODE HERE ###"
   ]
  },
  {
   "cell_type": "markdown",
   "metadata": {
    "id": "T-aKILXl51uq"
   },
   "source": [
    "## Determinant\n",
    ">Calculate the determinant of the array A and print it."
   ]
  },
  {
   "cell_type": "code",
   "execution_count": 14,
   "metadata": {
    "id": "IuIyFxIb51ur"
   },
   "outputs": [
    {
     "name": "stdout",
     "output_type": "stream",
     "text": [
      "0.0\n"
     ]
    }
   ],
   "source": [
    "### START CODE HERE ###\n",
    "det = np.linalg.det(A)\n",
    "print(det)\n",
    "### END CODE HERE ###"
   ]
  },
  {
   "cell_type": "markdown",
   "metadata": {
    "id": "dUxqZ--i51ur"
   },
   "source": [
    "# Question 2"
   ]
  },
  {
   "cell_type": "markdown",
   "metadata": {
    "id": "tVorf1Zj51ur"
   },
   "source": [
    "## Loading dataset\n",
    ">Load the IMDB-Movie-Data.csv file into a pandas dataframe and show its first 5 rows. Each row of this dataframe corresponds to one film."
   ]
  },
  {
   "cell_type": "code",
   "execution_count": 18,
   "metadata": {
    "id": "dIsa36yi51ur"
   },
   "outputs": [
    {
     "name": "stdout",
     "output_type": "stream",
     "text": [
      "   Rank                    Title                     Genre  \\\n",
      "0     1  Guardians of the Galaxy   Action,Adventure,Sci-Fi   \n",
      "1     2               Prometheus  Adventure,Mystery,Sci-Fi   \n",
      "2     3                    Split           Horror,Thriller   \n",
      "3     4                     Sing   Animation,Comedy,Family   \n",
      "4     5            Suicide Squad  Action,Adventure,Fantasy   \n",
      "\n",
      "                                         Description              Director  \\\n",
      "0  A group of intergalactic criminals are forced ...            James Gunn   \n",
      "1  Following clues to the origin of mankind, a te...          Ridley Scott   \n",
      "2  Three girls are kidnapped by a man with a diag...    M. Night Shyamalan   \n",
      "3  In a city of humanoid animals, a hustling thea...  Christophe Lourdelet   \n",
      "4  A secret government agency recruits some of th...            David Ayer   \n",
      "\n",
      "                                              Actors  Year  Runtime (Minutes)  \\\n",
      "0  Chris Pratt, Vin Diesel, Bradley Cooper, Zoe S...  2014                121   \n",
      "1  Noomi Rapace, Logan Marshall-Green, Michael Fa...  2012                124   \n",
      "2  James McAvoy, Anya Taylor-Joy, Haley Lu Richar...  2016                117   \n",
      "3  Matthew McConaughey,Reese Witherspoon, Seth Ma...  2016                108   \n",
      "4  Will Smith, Jared Leto, Margot Robbie, Viola D...  2016                123   \n",
      "\n",
      "   Rating   Votes  Revenue (Millions)  Metascore  \n",
      "0     8.1  757074              333.13       76.0  \n",
      "1     7.0  485820              126.46       65.0  \n",
      "2     7.3  157606              138.12       62.0  \n",
      "3     7.2   60545              270.32       59.0  \n",
      "4     6.2  393727              325.02       40.0  \n"
     ]
    }
   ],
   "source": [
    "### START CODE HERE ###\n",
    "data = pd.read_csv(\"./IMDB-Movie-Data.CSV\")\n",
    "print(data.head())\n",
    "### END CODE HERE ###"
   ]
  },
  {
   "cell_type": "markdown",
   "metadata": {
    "id": "pgDvllsV51ur"
   },
   "source": [
    "## Actors/Actresses Activity\n",
    ">For each Actors/Actresses caculate the number of movies in the dataframe, then sort the actors/actresses first by their number of movies in descending order and then by their name in ascending order. "
   ]
  },
  {
   "cell_type": "code",
   "execution_count": 138,
   "metadata": {
    "id": "GfB9w9UO51ur"
   },
   "outputs": [
    {
     "name": "stderr",
     "output_type": "stream",
     "text": [
      "/var/folders/n2/_w97mv7j5vsc0rlc4hmz59qh0000gn/T/ipykernel_19222/2253866355.py:10: FutureWarning: elementwise comparison failed; returning scalar instead, but in the future will perform elementwise comparison\n",
      "  if j in data2.Actors.values:\n",
      "/var/folders/n2/_w97mv7j5vsc0rlc4hmz59qh0000gn/T/ipykernel_19222/2253866355.py:11: SettingWithCopyWarning: \n",
      "A value is trying to be set on a copy of a slice from a DataFrame\n",
      "\n",
      "See the caveats in the documentation: https://pandas.pydata.org/pandas-docs/stable/user_guide/indexing.html#returning-a-view-versus-a-copy\n",
      "  data2[\"Movies\"][data2[\"Actors\"].values == j] = data2[\"Movies\"][data2[\"Actors\"].values == j] + 1\n"
     ]
    },
    {
     "name": "stdout",
     "output_type": "stream",
     "text": [
      "Number of movies for each Actors/Actresses:\n",
      "            Actors  Movies\n",
      "0     Chris Pratt     7.0\n",
      "0      Vin Diesel     7.0\n",
      "0  Bradley Cooper    10.0\n",
      "0     Zoe Saldana     6.0\n",
      "0    Noomi Rapace     5.0\n",
      "\n",
      "Sorted data by number of movies in descending order:\n",
      "                            Actors  Movies\n",
      "0                  Mark Wahlberg    15.0\n",
      "0                      Brad Pitt    13.0\n",
      "0                   Hugh Jackman    13.0\n",
      "0                 Christian Bale    13.0\n",
      "0             Michael Fassbender    12.0\n",
      "..                           ...     ...\n",
      "0     Tiffany Haddish,Method Man     1.0\n",
      "0                   Jordan Peele     1.0\n",
      "0   Willem Dafoe,Samantha Morton     1.0\n",
      "0                   Lynn Collins     1.0\n",
      "0      Robbie Amell,Cheryl Hines     1.0\n",
      "\n",
      "[2015 rows x 2 columns]\n",
      "\n",
      "Sorted data by their name in ascending order:\n",
      "                     Actors  Movies\n",
      "0                 50 Cent     1.0\n",
      "0           A.C. Peterson     1.0\n",
      "0             AJ Michalka     1.0\n",
      "0              Aamir Khan     4.0\n",
      "0             Aaron Burns     2.0\n",
      "..                    ...     ...\n",
      "0                Zoë Bell     2.0\n",
      "0             Zoë Kravitz     2.0\n",
      "0          Émilie Leclerc     1.0\n",
      "0   Ólafur Darri Ólafsson     1.0\n",
      "0           Óscar Jaenada     1.0\n",
      "\n",
      "[2015 rows x 2 columns]\n"
     ]
    }
   ],
   "source": [
    "### START CODE HERE ###\n",
    "movie = {\n",
    "  \"Actors\": [],\n",
    "  \"Movies\": []\n",
    "}\n",
    "data2 = pd.DataFrame(movie)\n",
    "for i in data.Actors:\n",
    "    x = i.split(\", \")\n",
    "    for j in x:\n",
    "        if j in data2.Actors.values:\n",
    "            data2[\"Movies\"][data2[\"Actors\"].values == j] = data2[\"Movies\"][data2[\"Actors\"].values == j] + 1\n",
    "        else:\n",
    "            movie2 = {\n",
    "                \"Actors\": [j],\n",
    "                \"Movies\": [1]\n",
    "            }\n",
    "            data3 = pd.DataFrame(movie2)\n",
    "            data2 = data2.append(data3)\n",
    "sorted_data1 = data2.sort_values(by=['Movies'],ascending=False)    \n",
    "sorted_data2 = data2.sort_values(by=['Actors'])   \n",
    "print(\"Number of movies for each Actors/Actresses:\\n\",data2.head())\n",
    "print(\"\\nSorted data by number of movies in descending order:\\n \",sorted_data1)\n",
    "print(\"\\nSorted data by their name in ascending order:\\n \",sorted_data2)\n",
    "### END CODE HERE ###"
   ]
  },
  {
   "cell_type": "markdown",
   "metadata": {
    "id": "U8qu6f7d51ur"
   },
   "source": [
    "## Score Histogram\n",
    ">Draw the histogram of metascores and ratings. "
   ]
  },
  {
   "cell_type": "code",
   "execution_count": 115,
   "metadata": {
    "id": "JUf-Jl6T51ur"
   },
   "outputs": [
    {
     "data": {
      "text/plain": [
       "array([[<AxesSubplot:title={'center':'Rating'}>]], dtype=object)"
      ]
     },
     "execution_count": 115,
     "metadata": {},
     "output_type": "execute_result"
    },
    {
     "data": {
      "image/png": "[encoded data removed]",
      "text/plain": [
       "<Figure size 432x288 with 1 Axes>"
      ]
     },
     "metadata": {
      "needs_background": "light"
     },
     "output_type": "display_data"
    },
    {
     "data": {
      "image/png": "[encoded data removed]",
      "text/plain": [
       "<Figure size 432x288 with 1 Axes>"
      ]
     },
     "metadata": {
      "needs_background": "light"
     },
     "output_type": "display_data"
    }
   ],
   "source": [
    "### START CODE HERE ###\n",
    "data.hist(column = \"Metascore\")\n",
    "data.hist(column = \"Rating\")\n",
    "### END CODE HERE ###"
   ]
  },
  {
   "cell_type": "markdown",
   "metadata": {
    "id": "_fD8olon51ur"
   },
   "source": [
    "## Correlations\n",
    ">Calculate the correlation between rating, votes and metascore of the movies.\n",
    "Is there any meaningful relation between these features? "
   ]
  },
  {
   "cell_type": "code",
   "execution_count": 139,
   "metadata": {
    "id": "4Llb2din51ur"
   },
   "outputs": [
    {
     "data": {
      "text/html": [
       "<div>\n",
       "<style scoped>\n",
       "    .dataframe tbody tr th:only-of-type {\n",
       "        vertical-align: middle;\n",
       "    }\n",
       "\n",
       "    .dataframe tbody tr th {\n",
       "        vertical-align: top;\n",
       "    }\n",
       "\n",
       "    .dataframe thead th {\n",
       "        text-align: right;\n",
       "    }\n",
       "</style>\n",
       "<table border=\"1\" class=\"dataframe\">\n",
       "  <thead>\n",
       "    <tr style=\"text-align: right;\">\n",
       "      <th></th>\n",
       "      <th>Rating</th>\n",
       "      <th>Votes</th>\n",
       "      <th>Metascore</th>\n",
       "    </tr>\n",
       "  </thead>\n",
       "  <tbody>\n",
       "    <tr>\n",
       "      <th>Rating</th>\n",
       "      <td>1.000000</td>\n",
       "      <td>0.511537</td>\n",
       "      <td>0.631897</td>\n",
       "    </tr>\n",
       "    <tr>\n",
       "      <th>Votes</th>\n",
       "      <td>0.511537</td>\n",
       "      <td>1.000000</td>\n",
       "      <td>0.325684</td>\n",
       "    </tr>\n",
       "    <tr>\n",
       "      <th>Metascore</th>\n",
       "      <td>0.631897</td>\n",
       "      <td>0.325684</td>\n",
       "      <td>1.000000</td>\n",
       "    </tr>\n",
       "  </tbody>\n",
       "</table>\n",
       "</div>"
      ],
      "text/plain": [
       "             Rating     Votes  Metascore\n",
       "Rating     1.000000  0.511537   0.631897\n",
       "Votes      0.511537  1.000000   0.325684\n",
       "Metascore  0.631897  0.325684   1.000000"
      ]
     },
     "execution_count": 139,
     "metadata": {},
     "output_type": "execute_result"
    }
   ],
   "source": [
    "### START CODE HERE ###\n",
    "temp = data[[\"Rating\",\"Votes\",\"Metascore\"]]\n",
    "temp.corr()\n",
    "### END CODE HERE ###"
   ]
  },
  {
   "cell_type": "markdown",
   "metadata": {},
   "source": [
    "#### As we can see the correlation between \"Metascore\" and \"Rating\" and between \"Votes\" and \"Rating\" is more than 0.5, therefore, we can conclude that there is a meaningful relation between them. However the correlation between \"Metascore\" and  \"Votes\" is inconsiderable."
   ]
  },
  {
   "cell_type": "markdown",
   "metadata": {
    "id": "kLHzx8KW51ur"
   },
   "source": [
    "# Question 3"
   ]
  },
  {
   "cell_type": "markdown",
   "metadata": {
    "id": "xQMEJJVI51ur"
   },
   "source": [
    "## File\n",
    "> Craet a .txt file and name it \"Name_actors\". You must write the name of all actors/actresses in the IMDB-Movie-Data.csv file. Don't write a name multiple time and write each name in a new line."
   ]
  },
  {
   "cell_type": "code",
   "execution_count": 171,
   "metadata": {
    "id": "li8flG_251us"
   },
   "outputs": [],
   "source": [
    "### START CODE HERE ###\n",
    "txtFile = open(\"Name_actors.txt\",'w+')\n",
    "txtFile.writelines(data2[\"Actors\"]+\"\\n\")\n",
    "txtFile.seek(0) \n",
    "print(txtFile.read())\n",
    "\n",
    "#csvFile = open(\"IMDB-Movie-Data.csv\",\"w\")\n",
    "#header = [\"Actors\"]\n",
    "#writer = csv.writer(csvFile)\n",
    "#writer.writerow(header)\n",
    "#writer.writerow(txtFile)\n",
    "### END CODE HERE ###"
   ]
  },
  {
   "cell_type": "markdown",
   "metadata": {
    "id": "oXpoTAa-51us"
   },
   "source": [
    "# Question 4"
   ]
  },
  {
   "cell_type": "markdown",
   "metadata": {
    "id": "-l8ephAz51us"
   },
   "source": [
    "## Plot\n",
    ">You must plot the number of movies in each year according to the IMDB-Movie-Data.csv file. X-axis is year and y-axis show the number of movies in each year.\n",
    "> set the x_label, y_label and title for your plot."
   ]
  },
  {
   "cell_type": "code",
   "execution_count": 197,
   "metadata": {
    "id": "pVgfjlk_51us"
   },
   "outputs": [
    {
     "name": "stdout",
     "output_type": "stream",
     "text": [
      "      Rank  Title  Genre  Description  Director  Actors  Runtime (Minutes)  \\\n",
      "Year                                                                         \n",
      "2006    44     44     39           44        44      44                 29   \n",
      "2007    53     53     40           53        51      53                 35   \n",
      "2008    52     52     39           52        51      52                 37   \n",
      "2009    51     51     37           51        51      51                 36   \n",
      "2010    60     60     41           60        60      60                 32   \n",
      "2011    63     63     41           63        63      63                 43   \n",
      "2012    64     64     44           64        64      64                 44   \n",
      "2013    91     91     61           91        89      91                 47   \n",
      "2014    98     98     62           98        97      98                 54   \n",
      "2015   127    127     74          127       127     127                 54   \n",
      "2016   297    297    105          297       290     297                 69   \n",
      "\n",
      "      Rating  Votes  Revenue (Millions)  Metascore  All  \n",
      "Year                                                     \n",
      "2006      22     44                  42         26    1  \n",
      "2007      24     53                  49         34    1  \n",
      "2008      24     52                  51         35    1  \n",
      "2009      27     51                  47         35    1  \n",
      "2010      30     60                  57         39    1  \n",
      "2011      27     63                  62         37    1  \n",
      "2012      30     64                  64         35    1  \n",
      "2013      29     91                  88         45    1  \n",
      "2014      33     98                  94         47    1  \n",
      "2015      38    127                 108         57    1  \n",
      "2016      50    295                 197         73    1  \n"
     ]
    },
    {
     "data": {
      "image/png": "[encoded data removed]",
      "text/plain": [
       "<Figure size 432x288 with 1 Axes>"
      ]
     },
     "metadata": {
      "needs_background": "light"
     },
     "output_type": "display_data"
    }
   ],
   "source": [
    "### START CODE HERE ###\n",
    "print(data.groupby(['Year']).agg('nunique'))\n",
    "plt.hist(data[\"Year\"])\n",
    "plt.xlabel(\"Years\")\n",
    "plt.ylabel(\"Quantity\")\n",
    "plt.title(\"Number of movies in each year\")\n",
    "plt.show()\n",
    "\n",
    "### END CODE HERE ###"
   ]
  },
  {
   "cell_type": "markdown",
   "metadata": {
    "id": "-xaIS92c51us"
   },
   "source": [
    "## Plot\n",
    ">You must plot the cos(x) curve. plot 20 cycle of the curve. the frequency of first half of curve is 50 Hz and frequency of second lalf is 200 Hz. \n",
    "> set the x_label, y_label and title for your plot."
   ]
  },
  {
   "cell_type": "code",
   "execution_count": 555,
   "metadata": {
    "id": "5VhGTsTw51us",
    "scrolled": true
   },
   "outputs": [
    {
     "data": {
      "image/png": "[encoded data removed]",
      "text/plain": [
       "<Figure size 432x288 with 1 Axes>"
      ]
     },
     "metadata": {
      "needs_background": "light"
     },
     "output_type": "display_data"
    }
   ],
   "source": [
    "### START CODE HERE ###\n",
    "t = np.arange(0,10-0.001,0.001)\n",
    "c = np.zeros((20,9999))\n",
    "d = np.zeros(20)\n",
    "for i in range(20):\n",
    "    c[i] = np.cos(2*np.pi*50*t)*(t/0.001>=0+20*i)*(t/0.001<10+20*i) + np.cos(2*np.pi*200*t)*(t/0.001>=10+20*i)*(t/0.001<=15+20*i)\n",
    "    plt.plot(t,c[i])\n",
    "    plt.xlim([0,0.4])\n",
    "### END CODE HERE ###"
   ]
  },
  {
   "cell_type": "code",
   "execution_count": null,
   "metadata": {},
   "outputs": [],
   "source": []
  }
 ],
 "metadata": {
  "colab": {
   "provenance": []
  },
  "interpreter": {
   "hash": "d8283cc4fef7fdfd79fce9ff4c59fb46bb636ce565bf5e011ed8cd98646ea4d5"
  },
  "kernelspec": {
   "display_name": "Python 3 (ipykernel)",
   "language": "python",
   "name": "python3"
  },
  "language_info": {
   "codemirror_mode": {
    "name": "ipython",
    "version": 3
   },
   "file_extension": ".py",
   "mimetype": "text/x-python",
   "name": "python",
   "nbconvert_exporter": "python",
   "pygments_lexer": "ipython3",
   "version": "3.9.7"
  }
 },
 "nbformat": 4,
 "nbformat_minor": 1
}
